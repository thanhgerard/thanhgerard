{
  "nbformat": 4,
  "nbformat_minor": 0,
  "metadata": {
    "colab": {
      "provenance": [],
      "authorship_tag": "ABX9TyMNZd8PD5XEinb1J/Z8Jd/E",
      "include_colab_link": true
    },
    "kernelspec": {
      "name": "python3",
      "display_name": "Python 3"
    },
    "language_info": {
      "name": "python"
    }
  },
  "cells": [
    {
      "cell_type": "markdown",
      "metadata": {
        "id": "view-in-github",
        "colab_type": "text"
      },
      "source": [
        "<a href=\"https://colab.research.google.com/github/thanhgerard/thanhgerard/blob/main/Test.ipynb\" target=\"_parent\"><img src=\"https://colab.research.google.com/assets/colab-badge.svg\" alt=\"Open In Colab\"/></a>"
      ]
    },
    {
      "cell_type": "code",
      "execution_count": 7,
      "metadata": {
        "colab": {
          "base_uri": "https://localhost:8080/"
        },
        "id": "yRqPDxRgLGh5",
        "outputId": "d918c73f-4f21-4225-e48f-6b218e782a67"
      },
      "outputs": [
        {
          "output_type": "stream",
          "name": "stdout",
          "text": [
            "X et Y sont identique\n"
          ]
        }
      ],
      "source": [
        "x = 10\n",
        "y = 10\n",
        "\n",
        "if x > y:\n",
        "  print (\"X est plus grand que Y\")\n",
        "elif y <x:\n",
        "  print(\"Y est plus grand que X\")\n",
        "else:\n",
        "  print(\"X et Y sont identique\")\n",
        "\n"
      ]
    },
    {
      "cell_type": "code",
      "source": [],
      "metadata": {
        "id": "aO2HdmS-LLyx"
      },
      "execution_count": null,
      "outputs": []
    }
  ]
}